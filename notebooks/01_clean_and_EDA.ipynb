{
 "cells": [
  {
   "cell_type": "markdown",
   "id": "3e3016b5",
   "metadata": {},
   "source": [
    "# Credit Card Default Prediction\n",
    "This notebook explores and cleans the dataset, performs feature engineering, and prepares data for modeling.\n"
   ]
  },
  {
   "cell_type": "code",
   "execution_count": 38,
   "id": "b1b9113c",
   "metadata": {},
   "outputs": [],
   "source": [
    "import pandas as pd\n",
    "import numpy as np\n",
    "import os\n",
    "import seaborn as sns\n",
    "import matplotlib.pyplot as plt\n",
    "from xgboost import XGBClassifier, XGBRegressor\n",
    "from sklearn.model_selection import train_test_split\n",
    "from sklearn.metrics import accuracy_score\n",
    "\n",
    "# let the notebook know where to find the data\n",
    "os.chdir(\"C:/Users/benla/Desktop/store_sales_forecasting\")\n",
    "\n"
   ]
  },
  {
   "cell_type": "code",
   "execution_count": 39,
   "id": "3d218e34",
   "metadata": {},
   "outputs": [
    {
     "name": "stdout",
     "output_type": "stream",
     "text": [
      "df_train shape: (3000888, 6)\n",
      "df_train head:\n",
      "   id        date  store_nbr      family  sales  onpromotion\n",
      "0   0  2013-01-01          1  AUTOMOTIVE    0.0            0\n",
      "1   1  2013-01-01          1   BABY CARE    0.0            0\n",
      "2   2  2013-01-01          1      BEAUTY    0.0            0\n",
      "3   3  2013-01-01          1   BEVERAGES    0.0            0\n",
      "4   4  2013-01-01          1       BOOKS    0.0            0\n"
     ]
    }
   ],
   "source": [
    "# first we will load the data\n",
    "df_train = pd.read_csv(\"data/raw/train.csv\", header=0)\n",
    "\n",
    "# check out the shape and head of the dataframe\n",
    "print(f\"df_train shape: {df_train.shape}\")\n",
    "print(f\"df_train head:\\n{df_train.head()}\")"
   ]
  },
  {
   "cell_type": "markdown",
   "id": "b1aba06d",
   "metadata": {},
   "source": [
    "The next step is to perform EDA on the data"
   ]
  },
  {
   "cell_type": "code",
   "execution_count": 40,
   "id": "c16bab39",
   "metadata": {},
   "outputs": [
    {
     "name": "stdout",
     "output_type": "stream",
     "text": [
      "<class 'pandas.core.frame.DataFrame'>\n",
      "RangeIndex: 3000888 entries, 0 to 3000887\n",
      "Data columns (total 6 columns):\n",
      " #   Column       Dtype  \n",
      "---  ------       -----  \n",
      " 0   id           int64  \n",
      " 1   date         object \n",
      " 2   store_nbr    int64  \n",
      " 3   family       object \n",
      " 4   sales        float64\n",
      " 5   onpromotion  int64  \n",
      "dtypes: float64(1), int64(3), object(2)\n",
      "memory usage: 137.4+ MB\n"
     ]
    },
    {
     "data": {
      "text/html": [
       "<div>\n",
       "<style scoped>\n",
       "    .dataframe tbody tr th:only-of-type {\n",
       "        vertical-align: middle;\n",
       "    }\n",
       "\n",
       "    .dataframe tbody tr th {\n",
       "        vertical-align: top;\n",
       "    }\n",
       "\n",
       "    .dataframe thead th {\n",
       "        text-align: right;\n",
       "    }\n",
       "</style>\n",
       "<table border=\"1\" class=\"dataframe\">\n",
       "  <thead>\n",
       "    <tr style=\"text-align: right;\">\n",
       "      <th></th>\n",
       "      <th>id</th>\n",
       "      <th>store_nbr</th>\n",
       "      <th>sales</th>\n",
       "      <th>onpromotion</th>\n",
       "    </tr>\n",
       "  </thead>\n",
       "  <tbody>\n",
       "    <tr>\n",
       "      <th>count</th>\n",
       "      <td>3.000888e+06</td>\n",
       "      <td>3.000888e+06</td>\n",
       "      <td>3.000888e+06</td>\n",
       "      <td>3.000888e+06</td>\n",
       "    </tr>\n",
       "    <tr>\n",
       "      <th>mean</th>\n",
       "      <td>1.500444e+06</td>\n",
       "      <td>2.750000e+01</td>\n",
       "      <td>3.577757e+02</td>\n",
       "      <td>2.602770e+00</td>\n",
       "    </tr>\n",
       "    <tr>\n",
       "      <th>std</th>\n",
       "      <td>8.662819e+05</td>\n",
       "      <td>1.558579e+01</td>\n",
       "      <td>1.101998e+03</td>\n",
       "      <td>1.221888e+01</td>\n",
       "    </tr>\n",
       "    <tr>\n",
       "      <th>min</th>\n",
       "      <td>0.000000e+00</td>\n",
       "      <td>1.000000e+00</td>\n",
       "      <td>0.000000e+00</td>\n",
       "      <td>0.000000e+00</td>\n",
       "    </tr>\n",
       "    <tr>\n",
       "      <th>25%</th>\n",
       "      <td>7.502218e+05</td>\n",
       "      <td>1.400000e+01</td>\n",
       "      <td>0.000000e+00</td>\n",
       "      <td>0.000000e+00</td>\n",
       "    </tr>\n",
       "    <tr>\n",
       "      <th>50%</th>\n",
       "      <td>1.500444e+06</td>\n",
       "      <td>2.750000e+01</td>\n",
       "      <td>1.100000e+01</td>\n",
       "      <td>0.000000e+00</td>\n",
       "    </tr>\n",
       "    <tr>\n",
       "      <th>75%</th>\n",
       "      <td>2.250665e+06</td>\n",
       "      <td>4.100000e+01</td>\n",
       "      <td>1.958473e+02</td>\n",
       "      <td>0.000000e+00</td>\n",
       "    </tr>\n",
       "    <tr>\n",
       "      <th>max</th>\n",
       "      <td>3.000887e+06</td>\n",
       "      <td>5.400000e+01</td>\n",
       "      <td>1.247170e+05</td>\n",
       "      <td>7.410000e+02</td>\n",
       "    </tr>\n",
       "  </tbody>\n",
       "</table>\n",
       "</div>"
      ],
      "text/plain": [
       "                 id     store_nbr         sales   onpromotion\n",
       "count  3.000888e+06  3.000888e+06  3.000888e+06  3.000888e+06\n",
       "mean   1.500444e+06  2.750000e+01  3.577757e+02  2.602770e+00\n",
       "std    8.662819e+05  1.558579e+01  1.101998e+03  1.221888e+01\n",
       "min    0.000000e+00  1.000000e+00  0.000000e+00  0.000000e+00\n",
       "25%    7.502218e+05  1.400000e+01  0.000000e+00  0.000000e+00\n",
       "50%    1.500444e+06  2.750000e+01  1.100000e+01  0.000000e+00\n",
       "75%    2.250665e+06  4.100000e+01  1.958473e+02  0.000000e+00\n",
       "max    3.000887e+06  5.400000e+01  1.247170e+05  7.410000e+02"
      ]
     },
     "execution_count": 40,
     "metadata": {},
     "output_type": "execute_result"
    }
   ],
   "source": [
    "# # check to see that there are no missing values\n",
    "# print(f\"missing values:\\n{df_train.isnull().sum()}\")\n",
    "\n",
    "\n",
    "# checking to see the general behavior of the data\n",
    "df_train.info()\n",
    "df_train.describe()\n",
    "\n",
    "\n",
    "# # additional information to understand the dataset\n",
    "# print('unique store numbers')\n",
    "# print(df_train['store_nbr'].nunique())\n",
    "\n",
    "# print('unique families')\n",
    "# print(df_train['family'].nunique())\n",
    "\n",
    "# print('sales averages')\n",
    "# print(df_train['sales'].sum())\n",
    "\n",
    "# print('unique dates')\n",
    "# print(df_train['date'].nunique())\n",
    "\n",
    "\n",
    "\n",
    "# df_train['date'] = pd.to_datetime(df_train['date']) # format it to the right date \n",
    "# daily_sales = df_train.groupby('date')['sales'].sum()\n",
    "# daily_sales.plot(title='total sales over time') # the plot shows a relatively upward trending sales trajectory\n",
    "\n",
    "# # see how often items get sold in general, and how often items in each family get sold.\n",
    "# (df_train['sales'] == 0).mean()\n",
    "\n",
    "# df_train.groupby('family')['sales'].apply(lambda x: (x==0).mean()).sort_values() # so it seems that there are a lot of categories that customers buy frequently and some that are not bought frequently at all\n"
   ]
  },
  {
   "cell_type": "code",
   "execution_count": 41,
   "id": "37c35715",
   "metadata": {},
   "outputs": [
    {
     "name": "stdout",
     "output_type": "stream",
     "text": [
      "Model accuracy: 0.76\n"
     ]
    }
   ],
   "source": [
    "# after the initial basic EDA we will make a baseline model to see how well it can fit the data\n",
    "features = (col for col in df_train.columns if col not in ['sales', 'date', 'id'])\n",
    "x = df_train[features]\n",
    "x = pd.get_dummies(x, columns=['family'], drop_first=True)\n",
    "y = df_train['sales']\n",
    "\n",
    "x_train, x_test, y_train, y_test = train_test_split(x, y, test_size=0.2, random_state=305, shuffle=False)\n",
    "\n",
    "# now make a model\n",
    "\n",
    "model = XGBRegressor(\n",
    "    n_estimators=100,\n",
    "    max_depth=3,\n",
    "    learning_rate=0.1,\n",
    "    random_state=305\n",
    ")\n",
    "\n",
    "\n",
    "\n",
    "model.fit(x_train, y_train)\n",
    "\n",
    "# 🔹 5. Make predictions and evaluate\n",
    "y_pred = model.predict(x_test)\n",
    "accuracy = model.score(x_test, y_test)\n",
    "print(f\"Model accuracy: {accuracy:.2f}\")\n",
    "\n",
    "# NEXT TIME DO RESEARCH ON THE DIFFERENT WAYS WE EVALUTATE MODELS LIKE ROC CURVES ETC.\n",
    "\n",
    "# probably should add average store sales to the feature list\n",
    "\n",
    "# how do i figure out which features should be added, given the context? is there something like a set checklist that can let me know if i am missing features?\n",
    "\n",
    "# should I be adding the features first, or should i be making a really simple model first and then adding features later? how would i go about doing that? should i like add one feature at at ime, or add a bunch?\n",
    "\n",
    "# how do i know which features are important? how do i know which features can be ignored/taken out?\n",
    "\n",
    "# is the list of features that I should have changing with every model?\n"
   ]
  },
  {
   "cell_type": "code",
   "execution_count": 42,
   "id": "1c3bf6bf",
   "metadata": {},
   "outputs": [
    {
     "data": {
      "text/plain": [
       "<Axes: >"
      ]
     },
     "execution_count": 42,
     "metadata": {},
     "output_type": "execute_result"
    },
    {
     "data": {
      "image/png": "[encoded data removed]",
      "text/plain": [
       "<Figure size 640x480 with 2 Axes>"
      ]
     },
     "metadata": {},
     "output_type": "display_data"
    }
   ],
   "source": [
    "# correlation matrix\n",
    "df_train_simplified = df_train[['onpromotion', 'sales']]\n",
    "corr_matrix = df_train_simplified.corr()\n",
    "sns.heatmap(corr_matrix)\n",
    "\n",
    "# it seems like this will be hard to make a correlation matrix\n"
   ]
  },
  {
   "cell_type": "code",
   "execution_count": 43,
   "id": "ad98ffa3",
   "metadata": {},
   "outputs": [
    {
     "ename": "NameError",
     "evalue": "name 'df' is not defined",
     "output_type": "error",
     "traceback": [
      "\u001b[1;31m---------------------------------------------------------------------------\u001b[0m",
      "\u001b[1;31mNameError\u001b[0m                                 Traceback (most recent call last)",
      "Cell \u001b[1;32mIn[43], line 2\u001b[0m\n\u001b[0;32m      1\u001b[0m \u001b[38;5;66;03m# now see if there is any correlation between the features of the df\u001b[39;00m\n\u001b[1;32m----> 2\u001b[0m corr_matrix \u001b[38;5;241m=\u001b[39m df\u001b[38;5;241m.\u001b[39mcorr()\n\u001b[0;32m      3\u001b[0m strong_corr_matrix \u001b[38;5;241m=\u001b[39m corr_matrix[(corr_matrix \u001b[38;5;241m>\u001b[39m \u001b[38;5;241m0.7\u001b[39m) \u001b[38;5;241m|\u001b[39m (corr_matrix \u001b[38;5;241m<\u001b[39m \u001b[38;5;241m-\u001b[39m\u001b[38;5;241m0.7\u001b[39m)]\n\u001b[0;32m      4\u001b[0m strong_corr_matrix\n",
      "\u001b[1;31mNameError\u001b[0m: name 'df' is not defined"
     ]
    }
   ],
   "source": [
    "# now see if there is any correlation between the features of the df\n",
    "corr_matrix = df.corr()\n",
    "strong_corr_matrix = corr_matrix[(corr_matrix > 0.7) | (corr_matrix < -0.7)]\n",
    "strong_corr_matrix\n",
    "\n",
    "# now to see if there is any clear and strong correlation between the features and the labels\n",
    "last_col = corr_matrix.iloc[-1]\n",
    "last_col\n",
    "\n",
    "sns.heatmap(df)\n",
    "sns.heatmap(corr_matrix) # some of these are still not dummies "
   ]
  },
  {
   "cell_type": "markdown",
   "id": "9f995335",
   "metadata": {},
   "source": [
    "After EDA is performed and we see that there is no simple correlation between the variables, we will now proceed to building predictive models"
   ]
  },
  {
   "cell_type": "code",
   "execution_count": null,
   "id": "36781e6a",
   "metadata": {},
   "outputs": [],
   "source": [
    "# now, some of the columns have nomical categorical feature, and in this case we have to encode them into something that our model can more easily understand (unless we are using trees or something)\n",
    "# for example, Marrital_status goes from 1 for married, 2 for single, and 3 for other. We want to turn this into 3 binary columns using one hot encoding"
   ]
  },
  {
   "cell_type": "code",
   "execution_count": null,
   "id": "ec5835ed",
   "metadata": {},
   "outputs": [
    {
     "name": "stdout",
     "output_type": "stream",
     "text": [
      "(24000, 24)\n",
      "(24000,)\n",
      "accuracy: 0.819\n",
      "confusion matrix:\n",
      " [[4436  237]\n",
      " [ 849  478]]\n",
      "              precision    recall  f1-score   support\n",
      "\n",
      "           0       0.84      0.95      0.89      4673\n",
      "           1       0.67      0.36      0.47      1327\n",
      "\n",
      "    accuracy                           0.82      6000\n",
      "   macro avg       0.75      0.65      0.68      6000\n",
      "weighted avg       0.80      0.82      0.80      6000\n",
      "\n"
     ]
    },
    {
     "data": {
      "image/png": "[encoded data removed]",
      "text/plain": [
       "<Figure size 640x480 with 2 Axes>"
      ]
     },
     "metadata": {},
     "output_type": "display_data"
    }
   ],
   "source": [
    "# the first model that I want to build will be the xgboost since it will run without needing any further dummy variables/encodings, and can also deal with NANs (even though there are none in this case)\n",
    "\n",
    "\n",
    "\n",
    "# the firs thing that I will have to do is make the target column y, and then drop it to make X\n",
    "X = df.drop(\"default payment next month\", axis=1)\n",
    "y = df[\"default payment next month\"]\n",
    "\n",
    "# it is also good for me to test and make sure that there is some balance in the classes of y\n",
    "y.value_counts() # 0 -> 23364, 1-> 6636\n",
    "# since this is relatively unbalanced, this means that I should stratify to make sure that we are balanced\n",
    "\n",
    "X_train, X_test, y_train, y_test = train_test_split(X, y, test_size=0.2, random_state=42, stratify=y)\n",
    "print(X_train.shape)\n",
    "print(y_train.shape)\n",
    "\n",
    "# now that we have split the testing and training data, it is time to make the actual models.\n",
    "model = XGBClassifier(\n",
    "    n_estimators = 100,\n",
    "    max_depth = 3,\n",
    "    learning_rate=0.1,\n",
    "    eval_metric=\"logloss\"\n",
    ")\n",
    "\n",
    "model.fit(X_train, y_train)\n",
    "\n",
    "y_pred = model.predict(X_test)\n",
    "\n",
    "from sklearn.metrics import accuracy_score, confusion_matrix, classification_report\n",
    "\n",
    "print('accuracy:', accuracy_score(y_test, y_pred))\n",
    "cm = confusion_matrix(y_test, y_pred)\n",
    "print('confusion matrix:\\n', cm)\n",
    "labels = ['no default', 'default']\n",
    "sns.heatmap(cm, annot=True, fmt='d', cmap='Blues', xticklabels=labels, yticklabels=labels)\n",
    "\n",
    "print(classification_report(y_test, y_pred))"
   ]
  },
  {
   "cell_type": "code",
   "execution_count": null,
   "id": "8b16c6fa",
   "metadata": {},
   "outputs": [],
   "source": []
  }
 ],
 "metadata": {
  "kernelspec": {
   "display_name": "base",
   "language": "python",
   "name": "python3"
  },
  "language_info": {
   "codemirror_mode": {
    "name": "ipython",
    "version": 3
   },
   "file_extension": ".py",
   "mimetype": "text/x-python",
   "name": "python",
   "nbconvert_exporter": "python",
   "pygments_lexer": "ipython3",
   "version": "3.12.3"
  }
 },
 "nbformat": 4,
 "nbformat_minor": 5
}
